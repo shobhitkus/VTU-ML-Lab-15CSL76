{
 "cells": [
  {
   "cell_type": "code",
   "execution_count": 8,
   "metadata": {},
   "outputs": [
    {
     "name": "stdout",
     "output_type": "stream",
     "text": [
      "['sunny', 'warm', '?', 'strong', '?', '?']\n"
     ]
    }
   ],
   "source": [
    "import pandas as pd\n",
    "data = pd.read_csv('lab1.csv')\n",
    "rowLength = data.shape[0]\n",
    "columnLength = data.shape[1]\n",
    "h = ['0']*6\n",
    "hp = []\n",
    "hn = []\n",
    "for i in range(rowLength):\n",
    "    training = []\n",
    "    training.append(data.sky[i])\n",
    "    training.append(data.airTemp[i])\n",
    "    training.append(data.humidity[i])\n",
    "    training.append(data.wind[i])\n",
    "    training.append(data.water[i])\n",
    "    training.append(data.forecast[i])\n",
    "    if(data.enjoySport[i] != 'no'):\n",
    "        hp.append(training)\n",
    "    else:\n",
    "        hn.append(training)\n",
    "for i in range(len(hp)):\n",
    "    for j in range(columnLength-1):\n",
    "        if(h[j] == '0'):\n",
    "            h[j] = hp[i][j]\n",
    "        if(h[j] != hp[i][j]):\n",
    "            h[j] = '?'\n",
    "        else:\n",
    "            h[j] = hp[i][j]\n",
    "print(h)"
   ]
  },
  {
   "cell_type": "code",
   "execution_count": null,
   "metadata": {},
   "outputs": [],
   "source": []
  }
 ],
 "metadata": {
  "kernelspec": {
   "display_name": "Python 3",
   "language": "python",
   "name": "python3"
  },
  "language_info": {
   "codemirror_mode": {
    "name": "ipython",
    "version": 3
   },
   "file_extension": ".py",
   "mimetype": "text/x-python",
   "name": "python",
   "nbconvert_exporter": "python",
   "pygments_lexer": "ipython3",
   "version": "3.7.4"
  }
 },
 "nbformat": 4,
 "nbformat_minor": 2
}
