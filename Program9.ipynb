{
 "cells": [
  {
   "cell_type": "code",
   "execution_count": 8,
   "metadata": {},
   "outputs": [
    {
     "name": "stdout",
     "output_type": "stream",
     "text": [
      "    ACTUAL   PREDICTED\n",
      "0   setosa   setosa\n",
      "1   versicolor   versicolor\n",
      "2   versicolor   versicolor\n",
      "3   setosa   setosa\n",
      "4   virginica   virginica\n",
      "5   versicolor   versicolor\n",
      "6   virginica   virginica\n",
      "7   setosa   setosa\n",
      "8   setosa   setosa\n",
      "9   virginica   virginica\n",
      "10   versicolor   versicolor\n",
      "11   setosa   setosa\n",
      "12   virginica   virginica\n",
      "13   versicolor   versicolor\n",
      "14   versicolor   versicolor\n",
      "15   setosa   setosa\n",
      "16   versicolor   versicolor\n",
      "17   versicolor   versicolor\n",
      "18   setosa   setosa\n",
      "19   setosa   setosa\n",
      "20   versicolor   versicolor\n",
      "21   versicolor   versicolor\n",
      "22   versicolor   versicolor\n",
      "23   setosa   setosa\n",
      "24   virginica   virginica\n",
      "25   versicolor   versicolor\n",
      "26   setosa   setosa\n",
      "27   setosa   setosa\n",
      "28   versicolor   versicolor\n",
      "29   virginica   virginica\n",
      "30   versicolor   versicolor\n",
      "31   virginica   virginica\n",
      "32   versicolor   versicolor\n",
      "33   virginica   virginica\n",
      "34   virginica   virginica\n",
      "35   setosa   setosa\n",
      "36   versicolor   versicolor\n",
      "37   setosa   setosa\n",
      "38   versicolor   versicolor\n",
      "39   virginica   virginica\n",
      "40   virginica   virginica\n",
      "41   setosa   setosa\n",
      "42   virginica   versicolor\n",
      "43   virginica   virginica\n",
      "44   versicolor   versicolor\n",
      "45   virginica   virginica\n",
      "46   setosa   setosa\n",
      "47   setosa   setosa\n",
      "48   setosa   setosa\n",
      "49   versicolor   versicolor\n",
      "50   setosa   setosa\n",
      "51   setosa   setosa\n",
      "52   virginica   virginica\n",
      "53   virginica   virginica\n",
      "54   virginica   virginica\n",
      "55   virginica   virginica\n",
      "56   virginica   virginica\n",
      "57   versicolor   versicolor\n",
      "58   virginica   virginica\n",
      "59   versicolor   versicolor\n",
      "kNN model accuracy: 0.9833333333333333\n"
     ]
    }
   ],
   "source": [
    "from sklearn.model_selection import train_test_split\n",
    "from sklearn import datasets\n",
    "from sklearn import metrics\n",
    "from sklearn.neighbors import KNeighborsClassifier\n",
    "import numpy as np\n",
    "iris = datasets.load_iris()\n",
    "x = iris.data\n",
    "y = iris.target\n",
    "X_train, X_test, y_train, y_test = train_test_split(x, y, test_size=0.4, random_state=1)\n",
    "knn = KNeighborsClassifier(n_neighbors=3)\n",
    "knn.fit(X_train, y_train)\n",
    "y_pred = knn.predict(X_test)\n",
    "actual = [iris.target_names[p] for p in y_test]\n",
    "predicted = [iris.target_names[p] for p in y_pred]\n",
    "\n",
    "print(\" \",\" \",'ACTUAL',\" \",'PREDICTED')\n",
    "for i in range(len(X_test)):\n",
    "    print (i,\" \",actual[i],\" \",predicted[i])\n",
    "print(\"kNN model accuracy:\", metrics.accuracy_score(y_test, y_pred))"
   ]
  },
  {
   "cell_type": "code",
   "execution_count": null,
   "metadata": {},
   "outputs": [],
   "source": []
  }
 ],
 "metadata": {
  "kernelspec": {
   "display_name": "Python 3",
   "language": "python",
   "name": "python3"
  },
  "language_info": {
   "codemirror_mode": {
    "name": "ipython",
    "version": 3
   },
   "file_extension": ".py",
   "mimetype": "text/x-python",
   "name": "python",
   "nbconvert_exporter": "python",
   "pygments_lexer": "ipython3",
   "version": "3.7.4"
  }
 },
 "nbformat": 4,
 "nbformat_minor": 2
}
