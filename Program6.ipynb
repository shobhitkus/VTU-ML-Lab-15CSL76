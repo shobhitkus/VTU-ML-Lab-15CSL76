{
 "cells": [
  {
   "cell_type": "code",
   "execution_count": 10,
   "metadata": {},
   "outputs": [
    {
     "name": "stdout",
     "output_type": "stream",
     "text": [
      "0                      I love this sandwich\n",
      "1                  This is an amazing place\n",
      "2        I feel very good about these beers\n",
      "3                      This is my best work\n",
      "4                      What an awesome view\n",
      "5             I do not like this restaurant\n",
      "6                  I am tired of this stuff\n",
      "7                   iI can't deal with this\n",
      "8                      He is my sworn enemy\n",
      "9                       My boss is horrible\n",
      "10                 This is an awesome place\n",
      "11    I do not like the taste of this juice\n",
      "12                          I love to dance\n",
      "13        I am sick and tired of this place\n",
      "14                     What a great holiday\n",
      "15             That is bad locality to stay\n",
      "16           We will have good fun tomorrow\n",
      "17         I went to my enemy's house today\n",
      "Name: msg, dtype: object\n",
      "0     pos\n",
      "1     pos\n",
      "2     pos\n",
      "3     pos\n",
      "4     pos\n",
      "5     neg\n",
      "6     neg\n",
      "7     neg\n",
      "8     neg\n",
      "9     neg\n",
      "10    pos\n",
      "11    neg\n",
      "12    pos\n",
      "13    neg\n",
      "14    pos\n",
      "15    neg\n",
      "16    pos\n",
      "17    neg\n",
      "Name: label, dtype: object\n",
      "The volcabulary:\n",
      "['am', 'an', 'and', 'awesome', 'bad', 'best', 'boss', 'can', 'dance', 'deal', 'do', 'enemy', 'fun', 'good', 'have', 'he', 'horrible', 'house', 'ii', 'is', 'juice', 'like', 'locality', 'love', 'my', 'not', 'of', 'place', 'sandwich', 'sick', 'stay', 'sworn', 'taste', 'that', 'the', 'this', 'tired', 'to', 'today', 'tomorrow', 'view', 'we', 'went', 'what', 'will', 'with', 'work']\n",
      "Accuracy metrics\n",
      "Accuracy of the classifer is \n",
      "1.0\n",
      "\n",
      "Confusion matrix is: \n",
      "[[2 0]\n",
      " [0 3]]\n",
      "\n",
      "Recall:\n",
      " 1.0\n",
      "\n",
      "Precision:\n",
      " 1.0\n"
     ]
    }
   ],
   "source": [
    "from sklearn.model_selection import train_test_split\n",
    "from sklearn.feature_extraction.text import CountVectorizer\n",
    "from sklearn import metrics\n",
    "from sklearn.naive_bayes import MultinomialNB\n",
    "import pandas as pd\n",
    "data = pd.read_csv('lab6.csv',names=['msg','label'])\n",
    "print(data.msg)\n",
    "print(data.label)\n",
    "data['label_num'] = data.label.map({'pos':1,'neg':0})\n",
    "x = data.msg\n",
    "y = data.label_num\n",
    "xtrain,xtest,ytrain,ytest = train_test_split(x,y)\n",
    "cvect = CountVectorizer()\n",
    "xtrain_dtm = cvect.fit_transform(xtrain)\n",
    "xtest_dtm = cvect.transform(xtest)\n",
    "print(\"The volcabulary:\\n{0}\".format(cvect.get_feature_names()))\n",
    "clf = MultinomialNB().fit(xtrain_dtm,ytrain)\n",
    "predicted = clf.predict(xtest_dtm)\n",
    "print('Accuracy metrics')\n",
    "accuracy = metrics.accuracy_score(ytest,predicted)\n",
    "confusion = metrics.confusion_matrix(ytest,predicted)\n",
    "recall = metrics.recall_score(ytest,predicted)\n",
    "precision = metrics.precision_score(ytest,predicted)\n",
    "print('Accuracy of the classifer is \\n{0}'.format(accuracy))\n",
    "print('\\nConfusion matrix is: \\n{0}'.format(confusion))\n",
    "print('\\nRecall:\\n {0}'.format(recall))\n",
    "print('\\nPrecision:\\n {0}'.format(precision))"
   ]
  },
  {
   "cell_type": "code",
   "execution_count": null,
   "metadata": {},
   "outputs": [],
   "source": []
  }
 ],
 "metadata": {
  "kernelspec": {
   "display_name": "Python 3",
   "language": "python",
   "name": "python3"
  },
  "language_info": {
   "codemirror_mode": {
    "name": "ipython",
    "version": 3
   },
   "file_extension": ".py",
   "mimetype": "text/x-python",
   "name": "python",
   "nbconvert_exporter": "python",
   "pygments_lexer": "ipython3",
   "version": "3.7.4"
  }
 },
 "nbformat": 4,
 "nbformat_minor": 2
}
