{
 "cells": [
  {
   "cell_type": "code",
   "execution_count": 19,
   "metadata": {},
   "outputs": [
    {
     "name": "stdout",
     "output_type": "stream",
     "text": [
      "[[0.66666667 1.        ]\n",
      " [0.33333333 0.55555556]\n",
      " [1.         0.66666667]]\n",
      "Input: \n",
      " [[0.66666667 1.        ]\n",
      " [0.33333333 0.55555556]\n",
      " [1.         0.66666667]]\n",
      "Actual Output: \n",
      "[[1.]\n",
      " [0.]\n",
      " [1.]]\n",
      "Predicted Output: \n",
      " [[0.93798067]\n",
      " [0.07658212]\n",
      " [0.97243547]]\n"
     ]
    }
   ],
   "source": [
    "import numpy as np\n",
    "inputlayer_nue = 2\n",
    "hiddenlayer_nue = 3\n",
    "outputlayer_nue = 1\n",
    "wh = np.random.uniform(size=(inputlayer_nue,hiddenlayer_nue))\n",
    "bh = np.random.uniform(size=(1,hiddenlayer_nue))\n",
    "wout = np.random.uniform(size=(hiddenlayer_nue,outputlayer_nue))\n",
    "bout = np.random.uniform(size=(1,outputlayer_nue))\n",
    "epoch = 7000\n",
    "lr = 0.1\n",
    "X = np.array(([2, 9], [1, 5], [3, 6]), dtype=float) #x1=2,x2=9,y=1, x1=1,x2=5,y=0\n",
    "y = np.array(([1], [0], [1]), dtype=float)\n",
    "X = X/np.amax(X,axis=0)\n",
    "print(X)\n",
    "#Sigmoid Function\n",
    "def sigmoid (x):\n",
    "    return (1/(1 + np.exp(-x)))\n",
    "#Derivative of Sigmoid Function\n",
    "def derivatives_sigmoid(x):\n",
    "    return x * (1 - x)\n",
    "    # draws a random range of numbers uniformly of dim x*y\n",
    "    #Forward Propagation\n",
    "for i in range(epoch):\n",
    "    hinp1=np.dot(X,wh)\n",
    "    hinp=hinp1 + bh\n",
    "    hlayer_act = sigmoid(hinp)\n",
    "    outinp1=np.dot(hlayer_act,wout)\n",
    "    outinp= outinp1 + bout\n",
    "    output = sigmoid(outinp)\n",
    "    #Backpropagation\n",
    "    EO = y-output\n",
    "    outgrad = derivatives_sigmoid(output)\n",
    "    d_output = EO* outgrad #ERROR PORTION AT OUTPUT LAYER\n",
    "    #print d_output\n",
    "    EH = d_output.dot(wout.T) #TRANSPOSING WOUT MATRIX FOR IMPLEMENTING MULTIPLICATION\n",
    "    hiddengrad = derivatives_sigmoid(hlayer_act)\n",
    "    #how much hidden layer wts contributed to error\n",
    "    d_hiddenlayer = EH * hiddengrad\n",
    "    wout += hlayer_act.T.dot(d_output) *lr\n",
    "    # each hidden layer output value*final output layer error portion*learning rate\n",
    "    # dotproduct of nextlayererror and currentlayerop\n",
    "    bout += np.sum(d_output, axis=0,keepdims=True) *lr\n",
    "    wh += X.T.dot(d_hiddenlayer) *lr # change in weights between input layer and hidden layer\n",
    "    bh += np.sum(d_hiddenlayer, axis=0,keepdims=True) *lr\n",
    "print(\"Input: \\n\", str(X))\n",
    "print(\"Actual Output: \\n\" + str(y))\n",
    "print(\"Predicted Output: \\n\" ,output)"
   ]
  },
  {
   "cell_type": "code",
   "execution_count": null,
   "metadata": {},
   "outputs": [],
   "source": []
  }
 ],
 "metadata": {
  "kernelspec": {
   "display_name": "Python 3",
   "language": "python",
   "name": "python3"
  },
  "language_info": {
   "codemirror_mode": {
    "name": "ipython",
    "version": 3
   },
   "file_extension": ".py",
   "mimetype": "text/x-python",
   "name": "python",
   "nbconvert_exporter": "python",
   "pygments_lexer": "ipython3",
   "version": "3.7.4"
  }
 },
 "nbformat": 4,
 "nbformat_minor": 2
}
